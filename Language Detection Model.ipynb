{
 "cells": [
  {
   "cell_type": "code",
   "execution_count": 2,
   "id": "26e2bcdf",
   "metadata": {},
   "outputs": [],
   "source": [
    "#Importing Libraries: \n",
    "import string\n",
    "import re\n",
    "import codecs\n",
    "import numpy as np\n",
    "import pandas as pd\n",
    "import seaborn as sns\n",
    "import matplotlib.pyplot as plt\n",
    "from sklearn import feature_extraction\n",
    "from sklearn import linear_model\n",
    "from sklearn import pipeline\n",
    "from sklearn.model_selection import train_test_split\n",
    "from sklearn import metrics"
   ]
  },
  {
   "cell_type": "code",
   "execution_count": null,
   "id": "6bb1adea",
   "metadata": {},
   "outputs": [],
   "source": [
    "#Loading English Raw Data:\n",
    "eng_df = pd.read_csv(\"train\\\\english.txt\",\"utf-8\",header=None,names=[\"English\"])\n",
    "eng_df.head()"
   ]
  },
  {
   "cell_type": "code",
   "execution_count": null,
   "id": "b3640c3f",
   "metadata": {},
   "outputs": [],
   "source": [
    "#Loading German Raw Data:\n",
    "ger_df = pd.read_csv(\"train\\\\german.txt\",\"utf-8\",header=None,names=[\"German\"])\n",
    "ger_df.head()"
   ]
  },
  {
   "cell_type": "code",
   "execution_count": null,
   "id": "fe874c65",
   "metadata": {},
   "outputs": [],
   "source": [
    "#Loading French Raw Data:\n",
    "fre_df = pd.read_csv(\"train\\\\french.txt\",\"utf-8\",header=None,names=[\"French\"])\n",
    "fre_df.head()"
   ]
  },
  {
   "cell_type": "code",
   "execution_count": null,
   "id": "d4d2fd79",
   "metadata": {},
   "outputs": [],
   "source": [
    "#Loading Spanish Raw Data:\n",
    "spa_df = pd.read_csv(\"train\\\\spanish.txt\",\"utf-8\",header=None,names=[\"Spanish\"])\n",
    "spa_df.head()"
   ]
  },
  {
   "cell_type": "code",
   "execution_count": null,
   "id": "566e7438",
   "metadata": {},
   "outputs": [],
   "source": [
    "#Loading Chinese Raw Data:\n",
    "chi_df = pd.read_csv(\"train\\\\chinese.txt\",\"utf-8\",header=None,names=[\"Chinese\"])\n",
    "chi_df.head()"
   ]
  },
  {
   "cell_type": "code",
   "execution_count": 3,
   "id": "d92f1f11",
   "metadata": {},
   "outputs": [
    {
     "name": "stdout",
     "output_type": "stream",
     "text": [
      "! \" # $ % & ' ( ) * + , - . / : ; < = > ? @ [ \\ ] ^ _ ` { | } ~ "
     ]
    }
   ],
   "source": [
    "#Data Pre-Processing:\n",
    "for char in string.punctuation:\n",
    "    print(char, end=\" \")\n",
    "translate_table = dict((ord(char), None) for char in string.punctuation)"
   ]
  },
  {
   "cell_type": "code",
   "execution_count": null,
   "id": "67d202f3",
   "metadata": {},
   "outputs": [],
   "source": [
    "#Data Pre-Processing for English:\n",
    "for i,line in eng_df.iterrows():\n",
    "    line = line['English']\n",
    "    if len(line)! = 0:\n",
    "        line = line.lower()\n",
    "        line = re.sub(r\"\\d+\",\"\", line)\n",
    "        line = line.translate(translate_table)\n",
    "        data_eng.append(line)\n",
    "        lang_eng.append(\"English\")"
   ]
  },
  {
   "cell_type": "code",
   "execution_count": null,
   "id": "8d89d3e5",
   "metadata": {},
   "outputs": [],
   "source": [
    "#Data Pre-Processing for German:\n",
    "for i,line in ger_df.iterrows():\n",
    "    line = line['German']\n",
    "    if len(line)! = 0:\n",
    "        line = line.lower()\n",
    "        line = re.sub(r\"\\d+\",\"\", line)\n",
    "        line = line.translate(translate_table)\n",
    "        data_ger.append(line)\n",
    "        lang_ger.append(\"German\")"
   ]
  },
  {
   "cell_type": "code",
   "execution_count": null,
   "id": "8f630f4c",
   "metadata": {},
   "outputs": [],
   "source": [
    "#Data Pre-Processing for French:\n",
    "for i,line in fre_df.iterrows():\n",
    "    line = line['French']\n",
    "    if len(line)! = 0:\n",
    "        line = line.lower()\n",
    "        line = re.sub(r\"\\d+\",\"\", line)\n",
    "        line = line.translate(translate_table)\n",
    "        data_fre.append(line)\n",
    "        lang_fre.append(\"French\")"
   ]
  },
  {
   "cell_type": "code",
   "execution_count": null,
   "id": "d1dcdb46",
   "metadata": {},
   "outputs": [],
   "source": [
    "#Data Pre-Processing for Spanish:\n",
    "for i,line in spa_df.iterrows():\n",
    "    line = line['Spanish']\n",
    "    if len(line)! = 0:\n",
    "        line = line.lower()\n",
    "        line = re.sub(r\"\\d+\",\"\", line)\n",
    "        line = line.translate(translate_table)\n",
    "        data_spa.append(line)\n",
    "        lang_spa.append(\"Spanish\")"
   ]
  },
  {
   "cell_type": "code",
   "execution_count": null,
   "id": "4d1615ea",
   "metadata": {},
   "outputs": [],
   "source": [
    "#Data Pre-Processing for Chinese:\n",
    "for i,line in chi_df.iterrows():\n",
    "    line = line['chinese']\n",
    "    if len(line)! = 0:\n",
    "        line = line.lower()\n",
    "        line = re.sub(r\"\\d+\",\"\", line)\n",
    "        line = re.sub(r\"[a-zA-Z]+\",\"\", line)\n",
    "        line = line.translate(translate_table)\n",
    "        data_chi.append(line)\n",
    "        lang_chi.append(\"Chinese (Traditional)\")"
   ]
  },
  {
   "cell_type": "code",
   "execution_count": null,
   "id": "85a85499",
   "metadata": {},
   "outputs": [],
   "source": [
    "#Data After Pre-Processing:\n",
    "df = pd.DataFrame({\"Text\":data_eng+data_ger+data_fre+data_spa+data_chi,\n",
    "                   \"language\":lang_eng+lang_ger+lang_fre+lang_spa+lang_chi})\n",
    "print(df.shape)"
   ]
  },
  {
   "cell_type": "code",
   "execution_count": null,
   "id": "f1873b8c",
   "metadata": {},
   "outputs": [],
   "source": [
    "#Splitting Data into Train and Test sets (80:20):\n",
    "X,y = df.iloc[:,0],df.iloc[:,1]\n",
    "X_train, X_test, y_train, y_test = train_test_split(X,\n",
    "                                                    y,\n",
    "                                                    test_size=0.2,\n",
    "                                                    random_state=0)\n",
    "print(X_train.shape)\n",
    "print(X_test.shape)\n",
    "print(y_train.shape)\n",
    "print(y_test.shape)"
   ]
  },
  {
   "cell_type": "code",
   "execution_count": null,
   "id": "7a68bb18",
   "metadata": {},
   "outputs": [],
   "source": [
    "#Vectorizer and Model fitting Pipeline:\n",
    "vectorizer = feature_extraction.text.TfidfVectorizer(ngram_range=(1,3), analyzer='char')\n",
    "\n",
    "pipe_lr_r13 = pipeline.Pipeline([\n",
    "    ('vectorizer', vectorizer),\n",
    "    ('clf', linear_model.LogisticRegression())\n",
    "])"
   ]
  },
  {
   "cell_type": "code",
   "execution_count": null,
   "id": "d1216124",
   "metadata": {},
   "outputs": [],
   "source": [
    "#Model Fitting:\n",
    "pipe_lr_r13.fit(X_train, y_train)"
   ]
  },
  {
   "cell_type": "code",
   "execution_count": null,
   "id": "69fbe962",
   "metadata": {},
   "outputs": [],
   "source": [
    "#Model Prediction:\n",
    "y_predicted = pipe_lr_r13.predict(X_test)"
   ]
  },
  {
   "cell_type": "code",
   "execution_count": null,
   "id": "b5d0441b",
   "metadata": {},
   "outputs": [],
   "source": [
    "#Model Evaluation:\n",
    "acc = (metrics.accuracy_score(y_test, y_predicted))*100\n",
    "print(acc,'%')"
   ]
  },
  {
   "cell_type": "code",
   "execution_count": null,
   "id": "14ee4b29",
   "metadata": {},
   "outputs": [],
   "source": [
    "matrix = metrics.confusion_matrix(y_test,y_predicted)\n",
    "print('Confusion matrix : \\n',matrix)"
   ]
  },
  {
   "cell_type": "code",
   "execution_count": null,
   "id": "2da3ee4c",
   "metadata": {},
   "outputs": [],
   "source": [
    "#Model Saving:\n",
    "import pickle\n",
    "# Persist model so that it can be used by different consumers\n",
    "lrFile = open('LRModel.pckl', 'wb')\n",
    "pickle.dump(pipe_lr_r13, lrFile)\n",
    "lrFile.close()"
   ]
  },
  {
   "cell_type": "code",
   "execution_count": null,
   "id": "9b6910cc",
   "metadata": {},
   "outputs": [],
   "source": [
    "#Model Loading\n",
    "global lrLangDetectModel\n",
    "lrLangDetectFile = open('LRModel.pckl', 'rb')\n",
    "lrLangDetectModel = pickle.load(lrLangDetectFile)\n",
    "lrLangDetectFile.close()"
   ]
  },
  {
   "cell_type": "code",
   "execution_count": null,
   "id": "85dd9523",
   "metadata": {},
   "outputs": [],
   "source": [
    "#Method Definition to call Trained Model and Make Predictions:\n",
    "def lang_detect(text):\n",
    "    import numpy as np\n",
    "    import string\n",
    "    import re\n",
    "    import pickle\n",
    "    translate_table = dict((ord(char), None) for char in string.punctuation)\n",
    "    \n",
    "    global lrLangDetectModel\n",
    "    lrLangDetectFile = open('LRModel.pckl', 'rb')\n",
    "    lrLangDetectModel = pickle.load(lrLangDetectFile)\n",
    "    lrLangDetectFile.close()\n",
    "    \n",
    "    text = \" \".join(text.split())\n",
    "    text = text.lower()\n",
    "    text = re.sub(r\"\\d+\",\"\", text)\n",
    "    text = text.translate(translate_table)\n",
    "    pred = lrLangDetectModel.predict([text])\n",
    "    prob = lrLangDetectModel.predict_proba([text])\n",
    "    return pred[0]"
   ]
  },
  {
   "cell_type": "code",
   "execution_count": null,
   "id": "552ffd8e",
   "metadata": {},
   "outputs": [],
   "source": [
    "#Predictions\n",
    "lang_detect()"
   ]
  }
 ],
 "metadata": {
  "kernelspec": {
   "display_name": "Python 3 (ipykernel)",
   "language": "python",
   "name": "python3"
  },
  "language_info": {
   "codemirror_mode": {
    "name": "ipython",
    "version": 3
   },
   "file_extension": ".py",
   "mimetype": "text/x-python",
   "name": "python",
   "nbconvert_exporter": "python",
   "pygments_lexer": "ipython3",
   "version": "3.10.5"
  }
 },
 "nbformat": 4,
 "nbformat_minor": 5
}
